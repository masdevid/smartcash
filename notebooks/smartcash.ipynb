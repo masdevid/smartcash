{
 "cells": [
  {
   "cell_type": "markdown",
   "metadata": {},
   "source": [
    "# SmartCash - Notebook"
   ]
  },
  {
   "cell_type": "markdown",
   "metadata": {},
   "source": [
    "## 1. Setup Environment"
   ]
  },
  {
   "cell_type": "code",
   "execution_count": null,
   "metadata": {
    "tags": []
   },
   "outputs": [],
   "source": [
    "\"\"\"\n",
    "File: smartcash/ui/cells/setup/cell_1_1_repository_clone.py\n",
    "Deskripsi: Clone/update repository YOLOv5 dan SmartCash dengan pilihan branch\n",
    "\"\"\"\n",
    "import subprocess, os; from pathlib import Path; from IPython.display import display, HTML, clear_output; import ipywidgets as widgets\n",
    "re_execute = lambda: get_ipython().run_cell_magic('javascript', '', 'Jupyter.notebook.execute_cell_and_select_next(this)')\n",
    "def run_cmd(cmd): r = subprocess.run(cmd, shell=True, capture_output=True, text=True); return r.stdout if not r.returncode else (_ for _ in ()).throw(Exception(r.stderr))\n",
    "def setup(click=False):\n",
    "    b, btn, p, s = (widgets.ToggleButtons(options=['dev', 'main'], value='dev', layout={'width': '320px', 'margin': '0 10px 0 0'}), widgets.Button(description='Go', button_style='info', layout={'width': '80px', 'margin': '0 10px 0 0'}), widgets.FloatProgress(min=0, max=5, layout={'flex': '1', 'margin': '0 10px 0 0'}),widgets.HTML(value='<span style=\"color:#666\">Ready</span>', layout={'width': '120px'}))\n",
    "    c, o = (widgets.HBox([widgets.Label('🚀', layout={'padding': '0 10px'}), b, p, s, btn], layout={'width': '100%', 'display': 'flex', 'align_items': 'center', 'justify_content': 'space-between', 'padding': '10px 4px', 'border': '1px solid #ddd'}),widgets.Output())\n",
    "    def on_click(_):\n",
    "        with o:\n",
    "            clear_output(); s.value, p.bar_style = '<span style=\"color:orange\">Working...</span>', ''\n",
    "            try:\n",
    "                for i, cmd in enumerate(['pip uninstall smartcash -qy','rm -rf smartcash yolov5', f'git clone -b {b.value} https://github.com/masdevid/smartcash.git', 'cd smartcash && pip install -q -e .', 'git clone https://github.com/ultralytics/yolov5.git']):\n",
    "                    run_cmd(cmd); p.value = i + 1\n",
    "                p.bar_style, s.value = 'success', '<span style=\"color:green\">✅ Done, Restart!</span>'\n",
    "                re_execute()\n",
    "            except:\n",
    "                p.bar_style, s.value = 'danger', '<span style=\"color:red\">❌ Error</span>'\n",
    "    btn.on_click(on_click); display(widgets.VBox([c, o]))\n",
    "    if (click): btn.click(); return\n",
    "setup()"
   ]
  },
  {
   "cell_type": "code",
   "execution_count": null,
   "metadata": {
    "tags": []
   },
   "outputs": [],
   "source": [
    "\"\"\"\n",
    "File: smartcash/ui/cells/cell_1_2_colab.py\n",
    "Deskripsi: Entry point untuk Google Colab environment setup\n",
    "NOTE: Cell Code should remain minimal (import and run initializer only). \n",
    "      Initializer should handle all the logic.\n",
    "\"\"\"\n",
    "from smartcash.ui.setup.colab import create_colab_display\n",
    "colab = create_colab_display()\n",
    "colab()"
   ]
  },
  {
   "cell_type": "code",
   "execution_count": null,
   "metadata": {
    "tags": []
   },
   "outputs": [],
   "source": [
    "\"\"\"\n",
    "File: smartcash/ui/cells/cell_1_3_dependency.py\n",
    "Deskripsi: Entry point untuk dependency checker\n",
    "\"\"\"\n",
    "from smartcash.ui.setup.dependency import create_dependency_display\n",
    "dependency = create_dependency_display()\n",
    "dependency()"
   ]
  },
  {
   "cell_type": "markdown",
   "metadata": {},
   "source": [
    "## 2. Dataset Preparation"
   ]
  },
  {
   "cell_type": "code",
   "execution_count": null,
   "metadata": {
    "tags": []
   },
   "outputs": [],
   "source": [
    "\"\"\"\n",
    "File: smartcash/ui/cells/cell_2_1_downloader.py\n",
    "Deskripsi: Entry point untuk download dataset\n",
    "NOTE: Cell Code should remain minimal (import and run initializer only). \n",
    "      Initializer should handle all the logic.\n",
    "\"\"\"\n",
    "from smartcash.ui.dataset.downloader import create_downloader_display\n",
    "downloader = create_downloader_display()\n",
    "downloader()"
   ]
  },
  {
   "cell_type": "code",
   "execution_count": null,
   "metadata": {
    "tags": []
   },
   "outputs": [],
   "source": [
    "\"\"\"\n",
    "File: smartcash/ui/cells/cell_2_2_split.py\n",
    "Deskripsi: Entry point untuk dataset split\n",
    "\"\"\"\n",
    "from smartcash.ui.dataset.split import create_split_display\n",
    "split = create_split_display()\n",
    "split()"
   ]
  },
  {
   "cell_type": "code",
   "execution_count": null,
   "metadata": {
    "tags": []
   },
   "outputs": [],
   "source": [
    "\"\"\"\n",
    "File: smartcash/ui/cells/cell_2_3_preprocess.py\n",
    "Deskripsi: Entry point untuk preprocessing dataset\n",
    "NOTE: Cell Code should remain minimal (import and run initializer only). \n",
    "      Initializer should handle all the logic.\n",
    "\"\"\"\n",
    "from smartcash.ui.dataset.preprocessing import create_preprocessing_display\n",
    "preprocess = create_preprocessing_display()\n",
    "preprocess()"
   ]
  },
  {
   "cell_type": "code",
   "execution_count": null,
   "metadata": {
    "tags": []
   },
   "outputs": [],
   "source": [
    "\"\"\"\n",
    "File: smartcash/ui/cells/cell_2_4_augment.py\n",
    "Deskripsi: Entry point untuk data augmentation\n",
    "NOTE: Cell Code should remain minimal (import and run initializer only).\n",
    "\"\"\"\n",
    "from smartcash.ui.dataset.augmentation import create_augmentation_display\n",
    "augment = create_augmentation_display()\n",
    "augment()"
   ]
  },
  {
   "cell_type": "code",
   "execution_count": null,
   "metadata": {
    "tags": []
   },
   "outputs": [],
   "source": [
    "\"\"\"\n",
    "File: smartcash/ui/cells/cell_2_5_visualize.py\n",
    "Description: Entry point for dataset visualization\n",
    "NOTE: Cell code should remain minimal (import and run initializer only).\n",
    "      Initializer handles all the logic.\n",
    "\"\"\"\n",
    "from smartcash.ui.dataset.visualization import create_visualization_display\n",
    "visualize = create_visualization_display()\n",
    "visualize()"
   ]
  },
  {
   "cell_type": "markdown",
   "metadata": {},
   "source": [
    "## 3. Model Training & Evaluation"
   ]
  },
  {
   "cell_type": "code",
   "execution_count": null,
   "metadata": {
    "tags": []
   },
   "outputs": [],
   "source": [
    "\"\"\"\n",
    "File: smartcash/ui/cells/cell_3_1_pretrained.py\n",
    "Deskripsi: Entry point untuk model pretrained\n",
    "\"\"\"\n",
    "from smartcash.ui.model.pretrained import create_pretrained_display\n",
    "pretrained = create_pretrained_display()\n",
    "pretrained()"
   ]
  },
  {
   "cell_type": "code",
   "execution_count": null,
   "metadata": {
    "tags": []
   },
   "outputs": [],
   "source": [
    "\"\"\"\n",
    "File: smartcash/ui/cells/cell_3_2_backbone.py\n",
    "Deskripsi: Entry point untuk model backbone\n",
    "NOTE: Cell Code should remain minimal (import and run initializer only).\n",
    "\"\"\"\n",
    "from smartcash.ui.model.backbone import create_backbone_display\n",
    "backbone = create_backbone_display()\n",
    "backbone()"
   ]
  },
  {
   "cell_type": "code",
   "execution_count": null,
   "metadata": {
    "tags": []
   },
   "outputs": [],
   "source": [
    "\"\"\"\n",
    "File: smartcash/ui/cells/cell_3_3_train.py\n",
    "Deskripsi: Entry point untuk training model\n",
    "\"\"\"\n",
    "from smartcash.ui.model.training import create_training_display\n",
    "train = create_training_display()\n",
    "train()"
   ]
  },
  {
   "cell_type": "code",
   "execution_count": null,
   "metadata": {
    "tags": []
   },
   "outputs": [],
   "source": [
    "\"\"\"\n",
    "File: smartcash/ui/cells/cell_3_4_evaluate.py\n",
    "Deskripsi: Entry point untuk evaluasi model\n",
    "NOTE: Cell Code should remain minimal (import and run initializer only).\n",
    "      Initializer should handle all the logic.\n",
    "\"\"\"\n",
    "from smartcash.ui.model.evaluation import create_evaluation_display\n",
    "evaluation = create_evaluation_display()\n",
    "evaluation()"
   ]
  }
 ],
 "metadata": {
  "kernelspec": {
   "display_name": "smartcash",
   "language": "python",
   "name": "python3"
  },
  "language_info": {
   "codemirror_mode": {
    "name": "ipython",
    "version": 3
   },
   "file_extension": ".py",
   "mimetype": "text/x-python",
   "name": "python",
   "nbconvert_exporter": "python",
   "pygments_lexer": "ipython3",
   "version": "3.12.9"
  }
 },
 "nbformat": 4,
 "nbformat_minor": 4
}
