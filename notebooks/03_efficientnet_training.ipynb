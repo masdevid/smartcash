{
 "cells": [
  {
   "cell_type": "markdown",
   "metadata": {},
   "source": [
    "# 🚀 SmartCash: EfficientNet Training Notebook\n",
    "Notebook untuk training model deteksi mata uang menggunakan YOLOv5 dengan EfficientNet-B4 backbone\n",
    "* File: 03_efficientnet_training.ipynb\n",
    "* Author: Alfrida Sabar\n",
    "## 🔍 Tahap 1: Impor Pustaka Standar dan Kustom\n",
    "Setup import untuk modul-modul yang dibutuhkan dalam proses training\n"
   ]
  },
  {
   "cell_type": "code",
   "execution_count": null,
   "metadata": {},
   "outputs": [],
   "source": [
    "# Setup import untuk modul-modul yang dibutuhkan dalam proses training\n",
    "import os\n",
    "import sys\n",
    "import torch\n",
    "import numpy as np\n",
    "import yaml\n",
    "from pathlib import Path\n",
    "\n",
    "# Impor modul kustom\n",
    "from utils.logger import SmartCashLogger\n",
    "from utils.experiment_tracker import ExperimentTracker\n",
    "from handlers.data_handler import DataHandler\n",
    "from handlers.roboflow_handler import RoboflowHandler\n",
    "from handlers.efficient_handler import EfficientNetHandler\n",
    "from utils.preprocessing import ImagePreprocessor\n",
    "\n",
    "# Setup logger\n",
    "logger = SmartCashLogger(__name__)"
   ]
  },
  {
   "cell_type": "markdown",
   "metadata": {},
   "source": [
    "## 🗂️ Tahap 2: Konfigurasi Path dan Lingkungan\n",
    "Menyiapkan direktori dan path yang diperlukan untuk proses training\n",
    "### 📍 Definisi Lokasi Direktori Utama"
   ]
  },
  {
   "cell_type": "code",
   "execution_count": null,
   "metadata": {},
   "outputs": [],
   "source": [
    "BASE_DIR = Path.cwd()\n",
    "CONFIG_PATH = BASE_DIR / 'configs' / 'base_config.yaml'\n",
    "DATA_DIR = BASE_DIR / 'data'\n",
    "RESULTS_DIR = BASE_DIR / 'results'\n",
    "\n",
    "# Buat direktori jika belum ada\n",
    "RESULTS_DIR.mkdir(exist_ok=True)\n"
   ]
  },
  {
   "cell_type": "markdown",
   "metadata": {},
   "source": [
    "## 📄 Tahap 3: Pemuatan Konfigurasi\n",
    "Memuat konfigurasi dari file YAML untuk kontrol proses training\n",
    "### 🔧 Baca Konfigurasi Eksperimen"
   ]
  },
  {
   "cell_type": "code",
   "execution_count": null,
   "metadata": {},
   "outputs": [],
   "source": [
    "with open(CONFIG_PATH, 'r') as f:\n",
    "    config = yaml.safe_load(f)"
   ]
  },
  {
   "cell_type": "markdown",
   "metadata": {},
   "source": [
    "## 🧹 Tahap 4: Persiapan Data\n",
    "Melakukan preprocessing dan validasi dataset untuk training\n",
    "### 📊 Preprocessing Dataset"
   ]
  },
  {
   "cell_type": "code",
   "execution_count": null,
   "metadata": {},
   "outputs": [],
   "source": [
    "# Setup data handler\n",
    "data_handler = DataHandler(CONFIG_PATH)\n",
    "data_handler.setup_dataset_structure()\n",
    "\n",
    "# Preprocessing\n",
    "preprocessor = ImagePreprocessor(CONFIG_PATH)\n",
    "preprocessor.process_dataset(\n",
    "    input_dir=DATA_DIR / 'train', \n",
    "    output_dir=DATA_DIR / 'processed_train',\n",
    "    augment=True\n",
    ")\n",
    "\n",
    "# Validasi dataset\n",
    "preprocessing_stats = preprocessor.validate_preprocessing(\n",
    "    DATA_DIR / 'processed_train'\n",
    ")"
   ]
  },
  {
   "cell_type": "markdown",
   "metadata": {},
   "source": [
    "## 📈 Tahap 5: Inisialisasi Pelacakan Eksperimen\n",
    "Menyiapkan sistem pelacakan dan logging untuk eksperimen training\n",
    "### 🔬 Setup Experiment Tracker"
   ]
  },
  {
   "cell_type": "code",
   "execution_count": null,
   "metadata": {},
   "outputs": [],
   "source": [
    "experiment_tracker = ExperimentTracker(\n",
    "    experiment_name='EfficientNet_SmartCash',\n",
    "    output_dir=str(RESULTS_DIR)\n",
    ")"
   ]
  },
  {
   "cell_type": "markdown",
   "metadata": {},
   "source": [
    "## 🤖 Tahap 6: Inisialisasi Model\n",
    "Membangun arsitektur model YOLOv5 dengan EfficientNet-B4 backbone\n",
    "\n",
    "### 🏗️ Konstruksi Model"
   ]
  },
  {
   "cell_type": "code",
   "execution_count": null,
   "metadata": {},
   "outputs": [],
   "source": [
    "efficient_handler = EfficientNetHandler(\n",
    "    config_path=str(CONFIG_PATH),\n",
    "    num_classes=len(config['dataset']['classes'])\n",
    ")\n",
    "\n",
    "# Build model\n",
    "efficient_handler.build()"
   ]
  },
  {
   "cell_type": "markdown",
   "metadata": {},
   "source": [
    "## 🚂 Tahap 7: Training Pipeline\n",
    "Implementasi keseluruhan proses training dengan mekanisme kontrol yang komprehensif\n",
    "\n",
    "### 🔄 Definisi Fungsi Training Utama"
   ]
  },
  {
   "cell_type": "code",
   "execution_count": null,
   "metadata": {},
   "outputs": [],
   "source": [
    "def run_notebook():\n",
    "    \"\"\"Jalankan keseluruhan training pipeline\"\"\"\n",
    "    try:\n",
    "        # Start eksperimen\n",
    "        experiment_tracker.start_run(\n",
    "            run_name='EfficientNet_Scenario3',\n",
    "            config=config\n",
    "        )\n",
    "        \n",
    "        # Persiapan data\n",
    "        train_loader = torch.utils.data.DataLoader(\n",
    "            # Dataset loading sesuai konfigurasi\n",
    "            batch_size=config['model']['batch_size'],\n",
    "            shuffle=True,\n",
    "            num_workers=config['model']['workers']\n",
    "        )\n",
    "        \n",
    "        val_loader = torch.utils.data.DataLoader(\n",
    "            # Dataset validation loading\n",
    "            batch_size=config['model']['batch_size'],\n",
    "            shuffle=False,\n",
    "            num_workers=config['model']['workers']\n",
    "        )\n",
    "        \n",
    "        # Training loop\n",
    "        for epoch in range(config['training']['epochs']):\n",
    "            logger.start(f\"🚀 Epoch {epoch+1}/{config['training']['epochs']}\")\n",
    "            \n",
    "            # Training\n",
    "            train_metrics = efficient_handler.train_epoch(train_loader, epoch)\n",
    "            \n",
    "            # Validasi\n",
    "            val_metrics = efficient_handler.validate(val_loader)\n",
    "            \n",
    "            # Gabungkan metrics\n",
    "            combined_metrics = {**train_metrics, **val_metrics}\n",
    "            \n",
    "            # Log metrics\n",
    "            experiment_tracker.log_metrics(combined_metrics, step=epoch)\n",
    "            \n",
    "            # Checkpoint\n",
    "            efficient_handler.save_checkpoint(combined_metrics)\n",
    "            \n",
    "            # Early stopping check\n",
    "            if efficient_handler.early_stopping(val_metrics):\n",
    "                logger.warning(\"🛑 Early stopping triggered!\")\n",
    "                break\n",
    "        \n",
    "        # Akhiri eksperimen\n",
    "        experiment_tracker.end_run()\n",
    "        \n",
    "        # Visualisasi\n",
    "        experiment_tracker.plot_metrics()\n",
    "        \n",
    "    except Exception as e:\n",
    "        logger.error(f\"❌ Training gagal: {str(e)}\")\n",
    "        experiment_tracker.end_run(status='failed')"
   ]
  },
  {
   "cell_type": "markdown",
   "metadata": {},
   "source": [
    "## 🏁 Tahap 8: Eksekusi Training\n",
    "Memulai proses training dan menjalankan keseluruhan pipeline\n",
    "\n",
    "### 🚀 Mulai Training\n"
   ]
  },
  {
   "cell_type": "code",
   "execution_count": null,
   "metadata": {},
   "outputs": [],
   "source": [
    "if __name__ == '__main__':\n",
    "    run_notebook()"
   ]
  }
 ],
 "metadata": {
  "kernelspec": {
   "display_name": "smartcash",
   "language": "python",
   "name": "python3"
  },
  "language_info": {
   "name": "python",
   "version": "3.12.8"
  }
 },
 "nbformat": 4,
 "nbformat_minor": 2
}
