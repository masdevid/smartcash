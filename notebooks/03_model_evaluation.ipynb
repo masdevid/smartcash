{
 "cells": [
  {
   "cell_type": "markdown",
   "metadata": {},
   "source": [
    "# 📊 Evaluasi Model SmartCash\n",
    "\n",
    "Notebook ini menjelaskan proses evaluasi model SmartCash sesuai dengan interface CLI.\n",
    "\n",
    "## 📋 Daftar Isi\n",
    "1. [Setup Environment](#setup)\n",
    "2. [Load Model & Data](#load)\n",
    "3. [Evaluasi Reguler](#regular)\n",
    "4. [Evaluasi Skenario Penelitian](#research)\n",
    "5. [Analisis Hasil](#analysis)"
   ]
  },
  {
   "cell_type": "markdown",
   "metadata": {},
   "source": [
    "## 1. Setup Environment <a id='setup'></a>"
   ]
  },
  {
   "cell_type": "code",
   "execution_count": null,
   "metadata": {},
   "outputs": [],
   "source": [
    "import sys\n",
    "import os\n",
    "from pathlib import Path\n",
    "\n",
    "# Add project root to path\n",
    "project_root = Path().absolute().parent\n",
    "sys.path.append(str(project_root))\n",
    "\n",
    "# Import handlers\n",
    "from smartcash.handlers.data_handler import DataHandler\n",
    "from smartcash.handlers.evaluation_handler import EvaluationHandler\n",
    "from smartcash.utils.metrics import calculate_metrics\n",
    "from smartcash.utils.visualization import plot_results"
   ]
  },
  {
   "cell_type": "markdown",
   "metadata": {},
   "source": [
    "## 2. Load Model & Data <a id='load'></a>"
   ]
  },
  {
   "cell_type": "code",
   "execution_count": null,
   "metadata": {},
   "outputs": [],
   "source": [
    "# Load config\n",
    "import yaml\n",
    "from dotenv import load_dotenv\n",
    "\n",
    "load_dotenv()\n",
    "\n",
    "with open(project_root / 'configs' / 'base_config.yaml') as f:\n",
    "    config = yaml.safe_load(f)\n",
    "\n",
    "# Load model\n",
    "model_path = project_root / 'outputs' / 'best_model.pt'\n",
    "evaluator = EvaluationHandler(model_path, config)\n",
    "\n",
    "# Load test data\n",
    "handler = DataHandler()\n",
    "test_loader = handler.get_test_loader(\n",
    "    batch_size=config['evaluation']['batch_size']\n",
    ")"
   ]
  },
  {
   "cell_type": "markdown",
   "metadata": {},
   "source": [
    "## 3. Evaluasi Reguler <a id='regular'></a>"
   ]
  },
  {
   "cell_type": "code",
   "execution_count": null,
   "metadata": {},
   "outputs": [],
   "source": [
    "# Evaluasi standar\n",
    "metrics = evaluator.evaluate_regular(test_loader)\n",
    "\n",
    "print(\"\\nHasil Evaluasi Regular:\")\n",
    "print(f\"Akurasi: {metrics['accuracy']:.4f}\")\n",
    "print(f\"Precision: {metrics['precision']:.4f}\")\n",
    "print(f\"Recall: {metrics['recall']:.4f}\")\n",
    "print(f\"F1-Score: {metrics['f1']:.4f}\")\n",
    "print(f\"mAP: {metrics['mAP']:.4f}\")\n",
    "print(f\"Waktu Inferensi: {metrics['inference_time']:.1f}ms\")"
   ]
  },
  {
   "cell_type": "markdown",
   "metadata": {},
   "source": [
    "## 4. Evaluasi Skenario Penelitian <a id='research'></a>"
   ]
  },
  {
   "cell_type": "code",
   "execution_count": null,
   "metadata": {},
   "outputs": [],
   "source": [
    "# Evaluasi skenario penelitian\n",
    "scenarios = [\n",
    "    'normal_light',\n",
    "    'low_light',\n",
    "    'high_light',\n",
    "    'rotation',\n",
    "    'partial_occlusion'\n",
    "]\n",
    "\n",
    "research_results = {}\n",
    "for scenario in scenarios:\n",
    "    print(f\"\\nEvaluasi Skenario: {scenario}\")\n",
    "    metrics = evaluator.evaluate_research(\n",
    "        test_loader,\n",
    "        scenario=scenario\n",
    "    )\n",
    "    research_results[scenario] = metrics\n",
    "    \n",
    "    print(f\"mAP: {metrics['mAP']:.4f}\")\n",
    "    print(f\"Waktu Inferensi: {metrics['inference_time']:.1f}ms\")"
   ]
  },
  {
   "cell_type": "markdown",
   "metadata": {},
   "source": [
    "## 5. Analisis Hasil <a id='analysis'></a>"
   ]
  },
  {
   "cell_type": "code",
   "execution_count": null,
   "metadata": {},
   "outputs": [],
   "source": [
    "# Plot confusion matrix\n",
    "evaluator.plot_confusion_matrix()\n",
    "\n",
    "# Plot precision-recall curve\n",
    "evaluator.plot_pr_curve()\n",
    "\n",
    "# Plot perbandingan skenario\n",
    "evaluator.plot_scenario_comparison(research_results)\n",
    "\n",
    "# Save results\n",
    "evaluator.save_results(\n",
    "    regular_metrics=metrics,\n",
    "    research_metrics=research_results,\n",
    "    output_dir=project_root / 'results'\n",
    ")"
   ]
  }
 ],
 "metadata": {
  "kernelspec": {
   "display_name": "Python 3",
   "language": "python",
   "name": "python3"
  },
  "language_info": {
   "codemirror_mode": {
    "name": "ipython",
    "version": 3
   },
   "file_extension": ".py",
   "mimetype": "text/x-python",
   "name": "python",
   "nbconvert_exporter": "python",
   "pygments_lexer": "ipython3",
   "version": "3.9.0"
  }
 },
 "nbformat": 4,
 "nbformat_minor": 4
}
