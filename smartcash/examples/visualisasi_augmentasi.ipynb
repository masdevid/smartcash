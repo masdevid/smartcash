{
 "cells": [
  {
   "cell_type": "markdown",
   "metadata": {},
   "source": [
    "# Visualisasi Augmentasi Dataset SmartCash\n",
    "\n",
    "Notebook ini mendemonstrasikan penggunaan visualisasi augmentasi untuk dataset SmartCash dalam deteksi mata uang. Visualisasi ini membantu memahami bagaimana augmentasi mempengaruhi gambar dan label dalam dataset."
   ]
  },
  {
   "cell_type": "code",
   "execution_count": null,
   "metadata": {},
   "source": [
    "# Instalasi dependensi jika belum ada\n",
    "!pip install -q matplotlib numpy opencv-python tqdm ipywidgets"
   ]
  },
  {
   "cell_type": "code",
   "execution_count": null,
   "metadata": {},
   "source": [
    "# Clone repository SmartCash jika belum ada\n",
    "import os\n",
    "if not os.path.exists('smartcash'):\n",
    "    !git clone https://github.com/username/smartcash.git\n",
    "    %cd smartcash\n",
    "else:\n",
    "    %cd smartcash\n",
    "    !git pull"
   ]
  },
  {
   "cell_type": "code",
   "execution_count": null,
   "metadata": {},
   "source": [
    "# Setup path\n",
    "import sys\n",
    "from pathlib import Path\n",
    "\n",
    "# Tambahkan path root ke sys.path\n",
    "root_path = str(Path.cwd())\n",
    "if root_path not in sys.path:\n",
    "    sys.path.append(root_path)"
   ]
  },
  {
   "cell_type": "markdown",
   "metadata": {},
   "source": [
    "## 1. Persiapan Dataset\n",
    "\n",
    "Pertama, kita perlu mengunduh dan mempersiapkan dataset untuk visualisasi. Anda dapat menggunakan dataset yang sudah ada atau mengunduh dataset contoh."
   ]
  },
  {
   "cell_type": "code",
   "execution_count": null,
   "metadata": {},
   "source": [
    "# Contoh: Unduh dataset contoh jika diperlukan\n",
    "# !wget -q https://url-to-dataset/dataset.zip\n",
    "# !unzip -q dataset.zip -d data/\n",
    "\n",
    "# Untuk tujuan demonstrasi, kita akan menggunakan path dataset yang sudah ada\n",
    "data_dir = \"data/dataset\"  # Sesuaikan dengan path dataset Anda\n",
    "preprocessed_dir = \"data/preprocessed\"  # Sesuaikan dengan path data preprocessed Anda\n",
    "\n",
    "# Buat direktori jika belum ada\n",
    "os.makedirs(data_dir, exist_ok=True)\n",
    "os.makedirs(preprocessed_dir, exist_ok=True)"
   ]
  },
  {
   "cell_type": "markdown",
   "metadata": {},
   "source": [
    "## 2. Inisialisasi UI Visualisasi Augmentasi\n",
    "\n",
    "Sekarang kita akan menginisialisasi UI untuk visualisasi augmentasi."
   ]
  },
  {
   "cell_type": "code",
   "execution_count": null,
   "metadata": {},
   "source": [
    "from smartcash.ui.dataset.augmentation.visualization.visualization_initializer import initialize_augmentation_visualization\n",
    "\n",
    "# Inisialisasi UI visualisasi augmentasi\n",
    "initialize_augmentation_visualization(\n",
    "    data_dir=data_dir,\n",
    "    preprocessed_dir=preprocessed_dir,\n",
    "    title=\"Visualisasi Augmentasi Dataset SmartCash\"\n",
    ")"
   ]
  },
  {
   "cell_type": "markdown",
   "metadata": {},
   "source": [
    "## 3. Petunjuk Penggunaan\n",
    "\n",
    "UI visualisasi augmentasi menyediakan beberapa tab untuk memvisualisasikan augmentasi pada dataset:\n",
    "\n",
    "1. **Sampel Augmentasi**: Melihat contoh hasil augmentasi pada beberapa gambar.\n",
    "2. **Variasi Augmentasi**: Melihat berbagai variasi augmentasi pada satu gambar.\n",
    "3. **Perbandingan Preprocess vs Augmentasi**: Membandingkan gambar asli, preprocessed, dan hasil augmentasi.\n",
    "4. **Dampak Augmentasi**: Melihat dampak berbagai jenis augmentasi pada satu gambar.\n",
    "\n",
    "Gunakan dropdown dan slider untuk mengatur parameter visualisasi, lalu klik tombol untuk menampilkan visualisasi."
   ]
  },
  {
   "cell_type": "markdown",
   "metadata": {},
   "source": [
    "## 4. Contoh Penggunaan Langsung API Visualisasi\n",
    "\n",
    "Selain menggunakan UI, Anda juga dapat menggunakan API visualisasi secara langsung untuk kasus penggunaan khusus."
   ]
  },
  {
   "cell_type": "code",
   "execution_count": null,
   "metadata": {},
   "source": [
    "from smartcash.ui.dataset.augmentation.visualization.visualization_manager import AugmentationVisualizationManager\n",
    "\n",
    "# Dapatkan instance manager\n",
    "manager = AugmentationVisualizationManager.get_instance()\n",
    "\n",
    "# Contoh: Visualisasi sampel augmentasi secara langsung\n",
    "sample_handler = manager.sample_handler\n",
    "result = sample_handler.visualize_augmentation_samples(\n",
    "    data_dir=data_dir,\n",
    "    aug_types=['combined'],  # Jenis augmentasi: 'combined', 'position', 'lighting'\n",
    "    split='train',\n",
    "    num_samples=2\n",
    ")\n",
    "\n",
    "# Tampilkan hasil\n",
    "if result['status'] == 'success':\n",
    "    for fig in result['figures']:\n",
    "        display(fig)"
   ]
  },
  {
   "cell_type": "markdown",
   "metadata": {},
   "source": [
    "## 5. Visualisasi Perbandingan Preprocess vs Augmentasi"
   ]
  },
  {
   "cell_type": "code",
   "execution_count": null,
   "metadata": {},
   "source": [
    "# Contoh: Visualisasi perbandingan preprocess vs augmentasi\n",
    "compare_handler = manager.compare_handler\n",
    "result = compare_handler.visualize_preprocess_vs_augmentation(\n",
    "    data_dir=data_dir,\n",
    "    preprocessed_dir=preprocessed_dir,\n",
    "    aug_type='combined',\n",
    "    split='train',\n",
    "    num_samples=2\n",
    ")\n",
    "\n",
    "# Tampilkan hasil\n",
    "if result['status'] == 'success':\n",
    "    display(result['figure'])"
   ]
  },
  {
   "cell_type": "markdown",
   "metadata": {},
   "source": [
    "## 6. Visualisasi Dampak Berbagai Jenis Augmentasi"
   ]
  },
  {
   "cell_type": "code",
   "execution_count": null,
   "metadata": {},
   "source": [
    "# Contoh: Visualisasi dampak berbagai jenis augmentasi\n",
    "result = compare_handler.visualize_augmentation_impact(\n",
    "    data_dir=data_dir,\n",
    "    preprocessed_dir=preprocessed_dir,\n",
    "    aug_types=['combined', 'position', 'lighting'],\n",
    "    split='train'\n",
    ")\n",
    "\n",
    "# Tampilkan hasil\n",
    "if result['status'] == 'success':\n",
    "    display(result['figure'])"
   ]
  },
  {
   "cell_type": "markdown",
   "metadata": {},
   "source": [
    "## 7. Kesimpulan\n",
    "\n",
    "Visualisasi augmentasi membantu memahami bagaimana augmentasi mempengaruhi gambar dan label dalam dataset. Dengan memahami dampak augmentasi, kita dapat memilih jenis augmentasi yang tepat untuk meningkatkan performa model deteksi mata uang.\n",
    "\n",
    "Beberapa manfaat visualisasi augmentasi:\n",
    "- Memahami bagaimana augmentasi mempengaruhi gambar dan label\n",
    "- Memilih jenis augmentasi yang tepat untuk dataset\n",
    "- Mendeteksi masalah dalam pipeline augmentasi\n",
    "- Meningkatkan interpretabilitas model"
   ]
  }
 ],
 "metadata": {
  "kernelspec": {
   "display_name": "Python 3",
   "language": "python",
   "name": "python3"
  },
  "language_info": {
   "codemirror_mode": {
    "name": "ipython",
    "version": 3
   },
   "file_extension": ".py",
   "mimetype": "text/x-python",
   "name": "python",
   "nbconvert_exporter": "python",
   "pygments_lexer": "ipython3",
   "version": "3.8.10"
  }
 },
 "nbformat": 4,
 "nbformat_minor": 4
}
