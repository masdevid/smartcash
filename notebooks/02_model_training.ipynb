{
 "cells": [
  {
   "cell_type": "markdown",
   "metadata": {},
   "source": [
    "# 🎯 Pelatihan Model SmartCash\n",
    "\n",
    "Notebook ini menjelaskan proses pelatihan model SmartCash sesuai dengan interface CLI.\n",
    "\n",
    "## 📋 Daftar Isi\n",
    "1. [Setup Environment](#setup)\n",
    "2. [Konfigurasi Model](#konfigurasi)\n",
    "3. [Persiapan Data](#data)\n",
    "4. [Pelatihan Model](#training)\n",
    "5. [Monitoring & Visualisasi](#monitoring)"
   ]
  },
  {
   "cell_type": "markdown",
   "metadata": {},
   "source": [
    "## 1. Setup Environment <a id='setup'></a>"
   ]
  },
  {
   "cell_type": "code",
   "execution_count": null,
   "metadata": {},
   "outputs": [],
   "source": [
    "import sys\n",
    "import os\n",
    "from pathlib import Path\n",
    "\n",
    "# Add project root to path\n",
    "project_root = Path().absolute().parent\n",
    "sys.path.append(str(project_root))\n",
    "\n",
    "# Import handlers & models\n",
    "from smartcash.handlers.data_handler import DataHandler\n",
    "from smartcash.handlers.training_handler import TrainingHandler\n",
    "from smartcash.models.yolov5_model import YOLOv5Model\n",
    "from smartcash.models.baseline import BaselineModel"
   ]
  },
  {
   "cell_type": "markdown",
   "metadata": {},
   "source": [
    "## 2. Konfigurasi Model <a id='konfigurasi'></a>"
   ]
  },
  {
   "cell_type": "code",
   "execution_count": null,
   "metadata": {},
   "outputs": [],
   "source": [
    "# Load config\n",
    "import yaml\n",
    "from dotenv import load_dotenv\n",
    "\n",
    "load_dotenv()\n",
    "\n",
    "with open(project_root / 'configs' / 'base_config.yaml') as f:\n",
    "    config = yaml.safe_load(f)"
   ]
  },
  {
   "cell_type": "markdown",
   "metadata": {},
   "source": [
    "### 2.1 Pilih Mode Deteksi\n",
    "\n",
    "Pilih antara deteksi lapis tunggal atau banyak:"
   ]
  },
  {
   "cell_type": "code",
   "execution_count": null,
   "metadata": {},
   "outputs": [],
   "source": [
    "# Pilih mode deteksi\n",
    "MULTI_LAYER = True  # Set False untuk deteksi lapis tunggal\n",
    "\n",
    "config['model']['multi_layer'] = MULTI_LAYER"
   ]
  },
  {
   "cell_type": "markdown",
   "metadata": {},
   "source": [
    "### 2.2 Pilih Arsitektur Model\n",
    "\n",
    "Pilih antara CSPDarknet atau EfficientNet-B4:"
   ]
  },
  {
   "cell_type": "code",
   "execution_count": null,
   "metadata": {},
   "outputs": [],
   "source": [
    "# Pilih arsitektur\n",
    "USE_EFFICIENT = True  # Set False untuk CSPDarknet\n",
    "\n",
    "if USE_EFFICIENT:\n",
    "    model = YOLOv5Model(config)\n",
    "else:\n",
    "    model = BaselineModel(config)"
   ]
  },
  {
   "cell_type": "markdown",
   "metadata": {},
   "source": [
    "### 2.3 Konfigurasi Parameter Pelatihan"
   ]
  },
  {
   "cell_type": "code",
   "execution_count": null,
   "metadata": {},
   "outputs": [],
   "source": [
    "# Set parameter pelatihan\n",
    "training_config = {\n",
    "    'batch_size': 32,\n",
    "    'learning_rate': 0.001,\n",
    "    'num_epochs': 100,\n",
    "    'early_stopping': 10\n",
    "}\n",
    "\n",
    "config['training'].update(training_config)"
   ]
  },
  {
   "cell_type": "markdown",
   "metadata": {},
   "source": [
    "## 3. Persiapan Data <a id='data'></a>"
   ]
  },
  {
   "cell_type": "code",
   "execution_count": null,
   "metadata": {},
   "outputs": [],
   "source": [
    "# Load dataset\n",
    "handler = DataHandler()\n",
    "train_loader, val_loader = handler.get_data_loaders(\n",
    "    batch_size=config['training']['batch_size']\n",
    ")"
   ]
  },
  {
   "cell_type": "markdown",
   "metadata": {},
   "source": [
    "## 4. Pelatihan Model <a id='training'></a>"
   ]
  },
  {
   "cell_type": "code",
   "execution_count": null,
   "metadata": {},
   "outputs": [],
   "source": [
    "# Inisialisasi trainer\n",
    "trainer = TrainingHandler(\n",
    "    model=model,\n",
    "    config=config,\n",
    "    train_loader=train_loader,\n",
    "    val_loader=val_loader\n",
    ")\n",
    "\n",
    "# Mulai pelatihan\n",
    "history = trainer.train()"
   ]
  },
  {
   "cell_type": "markdown",
   "metadata": {},
   "source": [
    "## 5. Monitoring & Visualisasi <a id='monitoring'></a>"
   ]
  },
  {
   "cell_type": "code",
   "execution_count": null,
   "metadata": {},
   "outputs": [],
   "source": [
    "# Plot training history\n",
    "trainer.plot_history(history)\n",
    "\n",
    "# Save model\n",
    "trainer.save_model(output_dir=project_root / 'outputs')"
   ]
  }
 ],
 "metadata": {
  "kernelspec": {
   "display_name": "Python 3",
   "language": "python",
   "name": "python3"
  },
  "language_info": {
   "codemirror_mode": {
    "name": "ipython",
    "version": 3
   },
   "file_extension": ".py",
   "mimetype": "text/x-python",
   "name": "python",
   "nbconvert_exporter": "python",
   "pygments_lexer": "ipython3",
   "version": "3.9.0"
  }
 },
 "nbformat": 4,
 "nbformat_minor": 4
}
